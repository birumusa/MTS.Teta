{
  "nbformat": 4,
  "nbformat_minor": 0,
  "metadata": {
    "colab": {
      "name": "meal_demand_forecasting.ipynb",
      "provenance": [],
      "collapsed_sections": [],
      "include_colab_link": true
    },
    "kernelspec": {
      "name": "python3",
      "display_name": "Python 3"
    },
    "language_info": {
      "name": "python"
    },
    "accelerator": "GPU"
  },
  "cells": [
    {
      "cell_type": "markdown",
      "metadata": {
        "id": "view-in-github",
        "colab_type": "text"
      },
      "source": [
        "<a href=\"https://colab.research.google.com/github/birumusa/MTS.Teta-HW-2/blob/main/meal_demand_forecasting.ipynb\" target=\"_parent\"><img src=\"https://colab.research.google.com/assets/colab-badge.svg\" alt=\"Open In Colab\"/></a>"
      ]
    },
    {
      "cell_type": "markdown",
      "metadata": {
        "id": "Q6Amlcx4V7rl"
      },
      "source": [
        "# Meal Demand Forecasting\n",
        "\n",
        "**HW 2. MTS.Teta Summer School**\n",
        "\n",
        "[Ссылка на соревнование](https://www.kaggle.com/sureshmecad/meal-demand-forecasting)"
      ]
    },
    {
      "cell_type": "markdown",
      "metadata": {
        "id": "f4bfe8c5"
      },
      "source": [
        "**Команда BTE (Best Team Ever):**\n",
        "\n",
        "* `Анастасия Барабанова`\n",
        "* `Александр Воробьев`\n",
        "* `Рафаэль Рамазанов`\n",
        "* `Даниэль Биру Муса`\n",
        "* `Шамиль Нуркаев`"
      ]
    },
    {
      "cell_type": "markdown",
      "metadata": {
        "id": "eH4E09h2Xsm4"
      },
      "source": [
        "---\n",
        "\n",
        "**Описание бизнес-задачи:**\n",
        "\n",
        "- Компания по доставке еды имеет различные центры выполнения заказов в нескольких городах. Она хочет, чтобы мы помогли этим центрам **в прогнозировании спроса на 1 ближайшую неделю**, чтобы правильно спланировать запасы продуктов. Также компания просит оценить *экономический эффект* и *точность нашего прогноза*, чтобы понимать, насколько хорош наш алгоритм и насколько можно ему доверять.\n",
        "\n",
        "- В данном случае необходима оптимизация логистического бизнес-процесса, чтобы эффективно использовать складские помещения и поддерживать оптимальный объем продукции.\n",
        "\n",
        "**Бизнес-цель:** \n",
        "\n",
        "- Оптимизация расчётов потребностей складов в продукции для минимизации возможных потерь.\n",
        "\n",
        "- Оценка успешности будет происходить с помощью измерения объёма невостребованной продукции на складе и нехватившей продукции, вызвавшей неудовлетворённый спрос. *Критерий успеха:* предсказанный спрос удовлетворяет существующие потребности клиентов, при этом невостребованных запасов на складе должно быть сведено к минимуму.\n",
        "\n",
        "Это было описание бизнес-кейса. Давайте теперь сформулируем математическую постановку задачи данного бизнес-кейса.\n",
        "\n",
        "--- \n",
        "\n",
        "**Математическая постановка задачи:** \n",
        "\n",
        "- Разработка модели машинного обучения на основании данных о динамике спроса в прошлом путем изучения объемов продаж за определенный период времени для решения задачи регрессии по предсказанию спроса на продукцию компании на 1 неделю. Вероятностная модель не требуется. \n",
        "\n",
        "- Модель может быть интегрирована в рабочую среду отвественных за расчёт потребностей в продукции складов в виде дополнительной программы. Далее это может быть использовано для организации доставки продукции до складов.\n",
        "\n",
        "**Метрика качества:**\n",
        "\n",
        "- Будет использована **MAPE**, поскольку данная метрика может быть легко интерпретирована для бизнес-целей как процент ошибки относительно истинного ответа"
      ]
    },
    {
      "cell_type": "markdown",
      "metadata": {
        "id": "9jPe7-rfQN0F"
      },
      "source": [
        "---\n",
        "\n",
        "**Актуальность задачи:**\n",
        "\n",
        "- Запасы продукции – это залог того, что компания получает прибыль, а значит, её бизнес процветает, поэтому нужно точно знать, когда и сколько её нужно закупить.\n",
        "\n",
        "- Для компании по доставке еды важно правильное планирование закупок. Если не учесть этот момент, то можно столкнуться с проблемой нехватки или излишка товара и, как следствие, с убытками. Необходимо соблюдать баланс между количеством запасов и оборотом, в котором они используются. С одной стороны, запасов продуктов на складах должно быть достаточно, чтобы удовлетворить существующие потребности клиентов. С другой стороны, неправильное планирование запасов ведёт к тому, что много невостребованной продукции, хранящейся на одном из складов, может стать непригодной к употреблению (истечение срока годности), что приведёт к дополнительным расходам на утилизацию. "
      ]
    },
    {
      "cell_type": "code",
      "metadata": {
        "id": "IakHFGNwKzGW"
      },
      "source": [
        "import os\n",
        "\n",
        "import numpy as np # linear algebra\n",
        "import pandas as pd # data processing, CSV file I/O (e.g. pd.read_csv)\n",
        "\n",
        "from tqdm.auto import tqdm\n",
        "\n",
        "# Set up Screen output\n",
        "pd.set_option('display.max_columns', 200)\n",
        "\n",
        "import matplotlib.pyplot as plt\n",
        "import seaborn as sns\n",
        "large = 22; med = 16; small = 12\n",
        "params = {'axes.titlesize': large,\n",
        "          'legend.fontsize': med,\n",
        "          'axes.labelsize': med,\n",
        "          'axes.titlesize': large,\n",
        "          'xtick.labelsize': med,\n",
        "          'ytick.labelsize': med,\n",
        "          'figure.titlesize': large}\n",
        "plt.rcParams.update(params)\n",
        "plt.style.use('seaborn-whitegrid')\n",
        "sns.set_style(\"white\")\n",
        "%matplotlib inline\n",
        "\n",
        "# Игнорируем назойливые предупреждения\n",
        "import warnings\n",
        "warnings.simplefilter(\"ignore\", UserWarning)\n",
        "warnings.simplefilter(\"ignore\", FutureWarning)"
      ],
      "execution_count": null,
      "outputs": []
    },
    {
      "cell_type": "code",
      "metadata": {
        "id": "6-u8mhSbcByx"
      },
      "source": [
        "!pip install -q catboost"
      ],
      "execution_count": null,
      "outputs": []
    },
    {
      "cell_type": "code",
      "metadata": {
        "colab": {
          "base_uri": "https://localhost:8080/"
        },
        "id": "rQ2KdfrQpCWT",
        "outputId": "a69ca8d2-a9a2-4364-8f1b-2eca7e374258"
      },
      "source": [
        "!pip uninstall scikit-learn -y\n",
        "\n",
        "!pip install -U scikit-learn"
      ],
      "execution_count": null,
      "outputs": [
        {
          "output_type": "stream",
          "text": [
            "Found existing installation: scikit-learn 0.24.2\n",
            "Uninstalling scikit-learn-0.24.2:\n",
            "  Successfully uninstalled scikit-learn-0.24.2\n",
            "Collecting scikit-learn\n",
            "  Using cached scikit_learn-0.24.2-cp37-cp37m-manylinux2010_x86_64.whl (22.3 MB)\n",
            "Requirement already satisfied: threadpoolctl>=2.0.0 in /usr/local/lib/python3.7/dist-packages (from scikit-learn) (2.2.0)\n",
            "Requirement already satisfied: scipy>=0.19.1 in /usr/local/lib/python3.7/dist-packages (from scikit-learn) (1.4.1)\n",
            "Requirement already satisfied: numpy>=1.13.3 in /usr/local/lib/python3.7/dist-packages (from scikit-learn) (1.19.5)\n",
            "Requirement already satisfied: joblib>=0.11 in /usr/local/lib/python3.7/dist-packages (from scikit-learn) (1.0.1)\n",
            "Installing collected packages: scikit-learn\n",
            "Successfully installed scikit-learn-0.24.2\n"
          ],
          "name": "stdout"
        }
      ]
    },
    {
      "cell_type": "code",
      "metadata": {
        "id": "f7VfMDsKbboV"
      },
      "source": [
        "from termcolor import cprint # For making colorful printing texts\n",
        "\n",
        "import scipy.stats as sps\n",
        "from scipy.special import inv_boxcox\n",
        "\n",
        "from sklearn.model_selection import train_test_split, GridSearchCV\n",
        "\n",
        "from catboost import CatBoostRegressor\n",
        "from sklearn.model_selection import KFold\n",
        "from sklearn.metrics import mean_absolute_percentage_error\n",
        "from sklearn.ensemble import RandomForestRegressor\n",
        "from sklearn.model_selection import train_test_split\n",
        "\n",
        "import math "
      ],
      "execution_count": null,
      "outputs": []
    },
    {
      "cell_type": "code",
      "metadata": {
        "id": "LWUl-DCoNRsj",
        "colab": {
          "base_uri": "https://localhost:8080/"
        },
        "outputId": "16f0af13-0f9d-4198-ccce-7e63f7fad6e5"
      },
      "source": [
        "from google.colab import drive\n",
        "drive.mount('/content/drive')"
      ],
      "execution_count": null,
      "outputs": [
        {
          "output_type": "stream",
          "text": [
            "Mounted at /content/drive\n"
          ],
          "name": "stdout"
        }
      ]
    },
    {
      "cell_type": "markdown",
      "metadata": {
        "id": "YqVOVnM7ROYq"
      },
      "source": [
        "# Part 0: Data"
      ]
    },
    {
      "cell_type": "markdown",
      "metadata": {
        "id": "i5ZXyKC8FMP-"
      },
      "source": [
        "Перед нами данные из реальной жизни. Поэтому какие-то товары могут быть очень новыми и у них слишком короткая история для прогнозирования продаж для них. Некоторые товары дорогие и покупаются не каждую неделю/месяц. В общем все, что присуще продажам товаров в магазинах.\n",
        "\n",
        "Однако у нас большая тренировочная выборка (целых 145 недель), что может позволить нам хорошо спрогнозировать спрос на непопулярные товары."
      ]
    },
    {
      "cell_type": "code",
      "metadata": {
        "id": "AePg0dt2NTaB"
      },
      "source": [
        "DATA_DIR = \"/content/\"\n",
        "\n",
        "train = pd.read_csv(os.path.join(DATA_DIR, \"train.csv\"))\n",
        "test = pd.read_csv(os.path.join(DATA_DIR, \"test.csv\"))\n",
        "\n",
        "meal_info = pd.read_csv(os.path.join(DATA_DIR, \"meal_info.csv\"))\n",
        "fulfilment_center_info = pd.read_csv(os.path.join(DATA_DIR, \"fulfilment_center_info.csv\"))\n"
      ],
      "execution_count": null,
      "outputs": []
    },
    {
      "cell_type": "code",
      "metadata": {
        "id": "dMs6BfVbPQ53",
        "colab": {
          "base_uri": "https://localhost:8080/"
        },
        "outputId": "80f063a0-e880-483d-b176-6d6c862ef7d2"
      },
      "source": [
        "# making colorful printing texts\n",
        "print('\\nShape of the Train set:', train.shape)\n",
        "cprint('*'*35, 'green')\n",
        "\n",
        "print('\\nShape of the Test set:', test.shape)\n",
        "cprint('*'*35, 'green')\n",
        "\n",
        "print('\\nShape of the Meal Info set:', meal_info.shape)\n",
        "cprint('*'*35, 'green')\n",
        "\n",
        "print('\\nShape of the Fulfilment Center Info set:', fulfilment_center_info.shape)\n",
        "cprint('*'*35, 'green')\n"
      ],
      "execution_count": null,
      "outputs": [
        {
          "output_type": "stream",
          "text": [
            "\n",
            "Shape of the Train set: (456548, 9)\n",
            "\u001b[32m***********************************\u001b[0m\n",
            "\n",
            "Shape of the Test set: (32573, 8)\n",
            "\u001b[32m***********************************\u001b[0m\n",
            "\n",
            "Shape of the Meal Info set: (51, 3)\n",
            "\u001b[32m***********************************\u001b[0m\n",
            "\n",
            "Shape of the Fulfilment Center Info set: (77, 5)\n",
            "\u001b[32m***********************************\u001b[0m\n"
          ],
          "name": "stdout"
        }
      ]
    },
    {
      "cell_type": "markdown",
      "metadata": {
        "id": "54O-_VWLRUbi"
      },
      "source": [
        "### `train` & `test`\n",
        "\n",
        "Исторические данные о спросе на комбинацию \"продукт-центр\" (недели: от 1 до 145):\n",
        "\n",
        "- `id` - Unique ID\n",
        "- `week` - Week No\n",
        "- `center_id` - Unique ID for fulfillment center\n",
        "- `meal_id` - Unique ID for Meal\n",
        "- `checkout_price` - Final price including discount, taxes & delivery charges\n",
        "- `base_price` - Base price of the meal\n",
        "- `emailer_for_promotion` - Emailer sent for promotion of meal\n",
        "- `homepage_featured` - Meal featured at homepage\n",
        "_____________________________________________________________________\n",
        "- **`num_orders`** - (Target) Orders Count (в train)"
      ]
    },
    {
      "cell_type": "code",
      "metadata": {
        "id": "lepdzTkrR0fw",
        "colab": {
          "base_uri": "https://localhost:8080/",
          "height": 419
        },
        "outputId": "ab3d301b-9d52-4ec9-e0d8-5cf0c0c55389"
      },
      "source": [
        "train"
      ],
      "execution_count": null,
      "outputs": [
        {
          "output_type": "execute_result",
          "data": {
            "text/html": [
              "<div>\n",
              "<style scoped>\n",
              "    .dataframe tbody tr th:only-of-type {\n",
              "        vertical-align: middle;\n",
              "    }\n",
              "\n",
              "    .dataframe tbody tr th {\n",
              "        vertical-align: top;\n",
              "    }\n",
              "\n",
              "    .dataframe thead th {\n",
              "        text-align: right;\n",
              "    }\n",
              "</style>\n",
              "<table border=\"1\" class=\"dataframe\">\n",
              "  <thead>\n",
              "    <tr style=\"text-align: right;\">\n",
              "      <th></th>\n",
              "      <th>id</th>\n",
              "      <th>week</th>\n",
              "      <th>center_id</th>\n",
              "      <th>meal_id</th>\n",
              "      <th>checkout_price</th>\n",
              "      <th>base_price</th>\n",
              "      <th>emailer_for_promotion</th>\n",
              "      <th>homepage_featured</th>\n",
              "      <th>num_orders</th>\n",
              "    </tr>\n",
              "  </thead>\n",
              "  <tbody>\n",
              "    <tr>\n",
              "      <th>0</th>\n",
              "      <td>1379560</td>\n",
              "      <td>1</td>\n",
              "      <td>55</td>\n",
              "      <td>1885</td>\n",
              "      <td>136.83</td>\n",
              "      <td>152.29</td>\n",
              "      <td>0</td>\n",
              "      <td>0</td>\n",
              "      <td>177</td>\n",
              "    </tr>\n",
              "    <tr>\n",
              "      <th>1</th>\n",
              "      <td>1466964</td>\n",
              "      <td>1</td>\n",
              "      <td>55</td>\n",
              "      <td>1993</td>\n",
              "      <td>136.83</td>\n",
              "      <td>135.83</td>\n",
              "      <td>0</td>\n",
              "      <td>0</td>\n",
              "      <td>270</td>\n",
              "    </tr>\n",
              "    <tr>\n",
              "      <th>2</th>\n",
              "      <td>1346989</td>\n",
              "      <td>1</td>\n",
              "      <td>55</td>\n",
              "      <td>2539</td>\n",
              "      <td>134.86</td>\n",
              "      <td>135.86</td>\n",
              "      <td>0</td>\n",
              "      <td>0</td>\n",
              "      <td>189</td>\n",
              "    </tr>\n",
              "    <tr>\n",
              "      <th>3</th>\n",
              "      <td>1338232</td>\n",
              "      <td>1</td>\n",
              "      <td>55</td>\n",
              "      <td>2139</td>\n",
              "      <td>339.50</td>\n",
              "      <td>437.53</td>\n",
              "      <td>0</td>\n",
              "      <td>0</td>\n",
              "      <td>54</td>\n",
              "    </tr>\n",
              "    <tr>\n",
              "      <th>4</th>\n",
              "      <td>1448490</td>\n",
              "      <td>1</td>\n",
              "      <td>55</td>\n",
              "      <td>2631</td>\n",
              "      <td>243.50</td>\n",
              "      <td>242.50</td>\n",
              "      <td>0</td>\n",
              "      <td>0</td>\n",
              "      <td>40</td>\n",
              "    </tr>\n",
              "    <tr>\n",
              "      <th>...</th>\n",
              "      <td>...</td>\n",
              "      <td>...</td>\n",
              "      <td>...</td>\n",
              "      <td>...</td>\n",
              "      <td>...</td>\n",
              "      <td>...</td>\n",
              "      <td>...</td>\n",
              "      <td>...</td>\n",
              "      <td>...</td>\n",
              "    </tr>\n",
              "    <tr>\n",
              "      <th>456543</th>\n",
              "      <td>1271326</td>\n",
              "      <td>145</td>\n",
              "      <td>61</td>\n",
              "      <td>1543</td>\n",
              "      <td>484.09</td>\n",
              "      <td>484.09</td>\n",
              "      <td>0</td>\n",
              "      <td>0</td>\n",
              "      <td>68</td>\n",
              "    </tr>\n",
              "    <tr>\n",
              "      <th>456544</th>\n",
              "      <td>1062036</td>\n",
              "      <td>145</td>\n",
              "      <td>61</td>\n",
              "      <td>2304</td>\n",
              "      <td>482.09</td>\n",
              "      <td>482.09</td>\n",
              "      <td>0</td>\n",
              "      <td>0</td>\n",
              "      <td>42</td>\n",
              "    </tr>\n",
              "    <tr>\n",
              "      <th>456545</th>\n",
              "      <td>1110849</td>\n",
              "      <td>145</td>\n",
              "      <td>61</td>\n",
              "      <td>2664</td>\n",
              "      <td>237.68</td>\n",
              "      <td>321.07</td>\n",
              "      <td>0</td>\n",
              "      <td>0</td>\n",
              "      <td>501</td>\n",
              "    </tr>\n",
              "    <tr>\n",
              "      <th>456546</th>\n",
              "      <td>1147725</td>\n",
              "      <td>145</td>\n",
              "      <td>61</td>\n",
              "      <td>2569</td>\n",
              "      <td>243.50</td>\n",
              "      <td>313.34</td>\n",
              "      <td>0</td>\n",
              "      <td>0</td>\n",
              "      <td>729</td>\n",
              "    </tr>\n",
              "    <tr>\n",
              "      <th>456547</th>\n",
              "      <td>1361984</td>\n",
              "      <td>145</td>\n",
              "      <td>61</td>\n",
              "      <td>2490</td>\n",
              "      <td>292.03</td>\n",
              "      <td>290.03</td>\n",
              "      <td>0</td>\n",
              "      <td>0</td>\n",
              "      <td>162</td>\n",
              "    </tr>\n",
              "  </tbody>\n",
              "</table>\n",
              "<p>456548 rows × 9 columns</p>\n",
              "</div>"
            ],
            "text/plain": [
              "             id  week  center_id  meal_id  checkout_price  base_price  \\\n",
              "0       1379560     1         55     1885          136.83      152.29   \n",
              "1       1466964     1         55     1993          136.83      135.83   \n",
              "2       1346989     1         55     2539          134.86      135.86   \n",
              "3       1338232     1         55     2139          339.50      437.53   \n",
              "4       1448490     1         55     2631          243.50      242.50   \n",
              "...         ...   ...        ...      ...             ...         ...   \n",
              "456543  1271326   145         61     1543          484.09      484.09   \n",
              "456544  1062036   145         61     2304          482.09      482.09   \n",
              "456545  1110849   145         61     2664          237.68      321.07   \n",
              "456546  1147725   145         61     2569          243.50      313.34   \n",
              "456547  1361984   145         61     2490          292.03      290.03   \n",
              "\n",
              "        emailer_for_promotion  homepage_featured  num_orders  \n",
              "0                           0                  0         177  \n",
              "1                           0                  0         270  \n",
              "2                           0                  0         189  \n",
              "3                           0                  0          54  \n",
              "4                           0                  0          40  \n",
              "...                       ...                ...         ...  \n",
              "456543                      0                  0          68  \n",
              "456544                      0                  0          42  \n",
              "456545                      0                  0         501  \n",
              "456546                      0                  0         729  \n",
              "456547                      0                  0         162  \n",
              "\n",
              "[456548 rows x 9 columns]"
            ]
          },
          "metadata": {
            "tags": []
          },
          "execution_count": 8
        }
      ]
    },
    {
      "cell_type": "code",
      "metadata": {
        "id": "xC0OhChSR31q",
        "colab": {
          "base_uri": "https://localhost:8080/",
          "height": 439
        },
        "outputId": "cb03f13e-7d1b-4b32-a2b5-98f7b483e1ce"
      },
      "source": [
        "test"
      ],
      "execution_count": null,
      "outputs": [
        {
          "output_type": "execute_result",
          "data": {
            "text/html": [
              "<div>\n",
              "<style scoped>\n",
              "    .dataframe tbody tr th:only-of-type {\n",
              "        vertical-align: middle;\n",
              "    }\n",
              "\n",
              "    .dataframe tbody tr th {\n",
              "        vertical-align: top;\n",
              "    }\n",
              "\n",
              "    .dataframe thead th {\n",
              "        text-align: right;\n",
              "    }\n",
              "</style>\n",
              "<table border=\"1\" class=\"dataframe\">\n",
              "  <thead>\n",
              "    <tr style=\"text-align: right;\">\n",
              "      <th></th>\n",
              "      <th>id</th>\n",
              "      <th>week</th>\n",
              "      <th>center_id</th>\n",
              "      <th>meal_id</th>\n",
              "      <th>checkout_price</th>\n",
              "      <th>base_price</th>\n",
              "      <th>emailer_for_promotion</th>\n",
              "      <th>homepage_featured</th>\n",
              "    </tr>\n",
              "  </thead>\n",
              "  <tbody>\n",
              "    <tr>\n",
              "      <th>0</th>\n",
              "      <td>1028232</td>\n",
              "      <td>146</td>\n",
              "      <td>55</td>\n",
              "      <td>1885</td>\n",
              "      <td>158.11</td>\n",
              "      <td>159.11</td>\n",
              "      <td>0</td>\n",
              "      <td>0</td>\n",
              "    </tr>\n",
              "    <tr>\n",
              "      <th>1</th>\n",
              "      <td>1127204</td>\n",
              "      <td>146</td>\n",
              "      <td>55</td>\n",
              "      <td>1993</td>\n",
              "      <td>160.11</td>\n",
              "      <td>159.11</td>\n",
              "      <td>0</td>\n",
              "      <td>0</td>\n",
              "    </tr>\n",
              "    <tr>\n",
              "      <th>2</th>\n",
              "      <td>1212707</td>\n",
              "      <td>146</td>\n",
              "      <td>55</td>\n",
              "      <td>2539</td>\n",
              "      <td>157.14</td>\n",
              "      <td>159.14</td>\n",
              "      <td>0</td>\n",
              "      <td>0</td>\n",
              "    </tr>\n",
              "    <tr>\n",
              "      <th>3</th>\n",
              "      <td>1082698</td>\n",
              "      <td>146</td>\n",
              "      <td>55</td>\n",
              "      <td>2631</td>\n",
              "      <td>162.02</td>\n",
              "      <td>162.02</td>\n",
              "      <td>0</td>\n",
              "      <td>0</td>\n",
              "    </tr>\n",
              "    <tr>\n",
              "      <th>4</th>\n",
              "      <td>1400926</td>\n",
              "      <td>146</td>\n",
              "      <td>55</td>\n",
              "      <td>1248</td>\n",
              "      <td>163.93</td>\n",
              "      <td>163.93</td>\n",
              "      <td>0</td>\n",
              "      <td>0</td>\n",
              "    </tr>\n",
              "    <tr>\n",
              "      <th>...</th>\n",
              "      <td>...</td>\n",
              "      <td>...</td>\n",
              "      <td>...</td>\n",
              "      <td>...</td>\n",
              "      <td>...</td>\n",
              "      <td>...</td>\n",
              "      <td>...</td>\n",
              "      <td>...</td>\n",
              "    </tr>\n",
              "    <tr>\n",
              "      <th>32568</th>\n",
              "      <td>1250239</td>\n",
              "      <td>155</td>\n",
              "      <td>61</td>\n",
              "      <td>1543</td>\n",
              "      <td>482.09</td>\n",
              "      <td>484.09</td>\n",
              "      <td>0</td>\n",
              "      <td>0</td>\n",
              "    </tr>\n",
              "    <tr>\n",
              "      <th>32569</th>\n",
              "      <td>1039516</td>\n",
              "      <td>155</td>\n",
              "      <td>61</td>\n",
              "      <td>2304</td>\n",
              "      <td>483.09</td>\n",
              "      <td>483.09</td>\n",
              "      <td>0</td>\n",
              "      <td>0</td>\n",
              "    </tr>\n",
              "    <tr>\n",
              "      <th>32570</th>\n",
              "      <td>1158107</td>\n",
              "      <td>155</td>\n",
              "      <td>61</td>\n",
              "      <td>2664</td>\n",
              "      <td>322.07</td>\n",
              "      <td>323.07</td>\n",
              "      <td>0</td>\n",
              "      <td>0</td>\n",
              "    </tr>\n",
              "    <tr>\n",
              "      <th>32571</th>\n",
              "      <td>1444235</td>\n",
              "      <td>155</td>\n",
              "      <td>61</td>\n",
              "      <td>2569</td>\n",
              "      <td>322.07</td>\n",
              "      <td>323.07</td>\n",
              "      <td>0</td>\n",
              "      <td>0</td>\n",
              "    </tr>\n",
              "    <tr>\n",
              "      <th>32572</th>\n",
              "      <td>1291286</td>\n",
              "      <td>155</td>\n",
              "      <td>61</td>\n",
              "      <td>2490</td>\n",
              "      <td>276.45</td>\n",
              "      <td>276.45</td>\n",
              "      <td>0</td>\n",
              "      <td>0</td>\n",
              "    </tr>\n",
              "  </tbody>\n",
              "</table>\n",
              "<p>32573 rows × 8 columns</p>\n",
              "</div>"
            ],
            "text/plain": [
              "            id  week  center_id  meal_id  checkout_price  base_price  \\\n",
              "0      1028232   146         55     1885          158.11      159.11   \n",
              "1      1127204   146         55     1993          160.11      159.11   \n",
              "2      1212707   146         55     2539          157.14      159.14   \n",
              "3      1082698   146         55     2631          162.02      162.02   \n",
              "4      1400926   146         55     1248          163.93      163.93   \n",
              "...        ...   ...        ...      ...             ...         ...   \n",
              "32568  1250239   155         61     1543          482.09      484.09   \n",
              "32569  1039516   155         61     2304          483.09      483.09   \n",
              "32570  1158107   155         61     2664          322.07      323.07   \n",
              "32571  1444235   155         61     2569          322.07      323.07   \n",
              "32572  1291286   155         61     2490          276.45      276.45   \n",
              "\n",
              "       emailer_for_promotion  homepage_featured  \n",
              "0                          0                  0  \n",
              "1                          0                  0  \n",
              "2                          0                  0  \n",
              "3                          0                  0  \n",
              "4                          0                  0  \n",
              "...                      ...                ...  \n",
              "32568                      0                  0  \n",
              "32569                      0                  0  \n",
              "32570                      0                  0  \n",
              "32571                      0                  0  \n",
              "32572                      0                  0  \n",
              "\n",
              "[32573 rows x 8 columns]"
            ]
          },
          "metadata": {
            "tags": []
          },
          "execution_count": 9
        }
      ]
    },
    {
      "cell_type": "markdown",
      "metadata": {
        "id": "ogex3pExSLVE"
      },
      "source": [
        "### `meal_info`\n",
        "\n",
        "Характеристики продуктов (еды), такие как категория и кухня:\n",
        "\n",
        "- `meal_id` - Unique ID for the meal\n",
        "- `category` - Type of meal (beverages/snacks/soups….)\n",
        "- `cuisine` - Meal cuisine (Indian/Italian/…)"
      ]
    },
    {
      "cell_type": "code",
      "metadata": {
        "id": "DfJ-ztuRSiSv",
        "colab": {
          "base_uri": "https://localhost:8080/",
          "height": 359
        },
        "outputId": "3bf0fc70-1df7-4982-d0af-ceca26e0b5fe"
      },
      "source": [
        "pd.concat((meal_info.head(), \n",
        "           meal_info.tail()))"
      ],
      "execution_count": null,
      "outputs": [
        {
          "output_type": "execute_result",
          "data": {
            "text/html": [
              "<div>\n",
              "<style scoped>\n",
              "    .dataframe tbody tr th:only-of-type {\n",
              "        vertical-align: middle;\n",
              "    }\n",
              "\n",
              "    .dataframe tbody tr th {\n",
              "        vertical-align: top;\n",
              "    }\n",
              "\n",
              "    .dataframe thead th {\n",
              "        text-align: right;\n",
              "    }\n",
              "</style>\n",
              "<table border=\"1\" class=\"dataframe\">\n",
              "  <thead>\n",
              "    <tr style=\"text-align: right;\">\n",
              "      <th></th>\n",
              "      <th>meal_id</th>\n",
              "      <th>category</th>\n",
              "      <th>cuisine</th>\n",
              "    </tr>\n",
              "  </thead>\n",
              "  <tbody>\n",
              "    <tr>\n",
              "      <th>0</th>\n",
              "      <td>1885</td>\n",
              "      <td>Beverages</td>\n",
              "      <td>Thai</td>\n",
              "    </tr>\n",
              "    <tr>\n",
              "      <th>1</th>\n",
              "      <td>1993</td>\n",
              "      <td>Beverages</td>\n",
              "      <td>Thai</td>\n",
              "    </tr>\n",
              "    <tr>\n",
              "      <th>2</th>\n",
              "      <td>2539</td>\n",
              "      <td>Beverages</td>\n",
              "      <td>Thai</td>\n",
              "    </tr>\n",
              "    <tr>\n",
              "      <th>3</th>\n",
              "      <td>1248</td>\n",
              "      <td>Beverages</td>\n",
              "      <td>Indian</td>\n",
              "    </tr>\n",
              "    <tr>\n",
              "      <th>4</th>\n",
              "      <td>2631</td>\n",
              "      <td>Beverages</td>\n",
              "      <td>Indian</td>\n",
              "    </tr>\n",
              "    <tr>\n",
              "      <th>46</th>\n",
              "      <td>2956</td>\n",
              "      <td>Fish</td>\n",
              "      <td>Continental</td>\n",
              "    </tr>\n",
              "    <tr>\n",
              "      <th>47</th>\n",
              "      <td>2104</td>\n",
              "      <td>Fish</td>\n",
              "      <td>Continental</td>\n",
              "    </tr>\n",
              "    <tr>\n",
              "      <th>48</th>\n",
              "      <td>2444</td>\n",
              "      <td>Seafood</td>\n",
              "      <td>Continental</td>\n",
              "    </tr>\n",
              "    <tr>\n",
              "      <th>49</th>\n",
              "      <td>2867</td>\n",
              "      <td>Seafood</td>\n",
              "      <td>Continental</td>\n",
              "    </tr>\n",
              "    <tr>\n",
              "      <th>50</th>\n",
              "      <td>1445</td>\n",
              "      <td>Seafood</td>\n",
              "      <td>Continental</td>\n",
              "    </tr>\n",
              "  </tbody>\n",
              "</table>\n",
              "</div>"
            ],
            "text/plain": [
              "    meal_id   category      cuisine\n",
              "0      1885  Beverages         Thai\n",
              "1      1993  Beverages         Thai\n",
              "2      2539  Beverages         Thai\n",
              "3      1248  Beverages       Indian\n",
              "4      2631  Beverages       Indian\n",
              "46     2956       Fish  Continental\n",
              "47     2104       Fish  Continental\n",
              "48     2444    Seafood  Continental\n",
              "49     2867    Seafood  Continental\n",
              "50     1445    Seafood  Continental"
            ]
          },
          "metadata": {
            "tags": []
          },
          "execution_count": 10
        }
      ]
    },
    {
      "cell_type": "markdown",
      "metadata": {
        "id": "-QBI_K1UUTEi"
      },
      "source": [
        "### `fulfilment_center_info`\n",
        "\n",
        "Информация о центрах выполнения, такая как площадь центра, информация о городе и т.д.\n",
        "\n",
        "- `center_id` - Unique ID for fulfillment center\n",
        "- `city_code` - Unique code for city\n",
        "- `region_code` - Unique code for region\n",
        "- `center_type` - Anonymized center type\n",
        "- `op_area` - Area of operation (in km^2)"
      ]
    },
    {
      "cell_type": "code",
      "metadata": {
        "id": "EP5MEy4rUm4O",
        "colab": {
          "base_uri": "https://localhost:8080/",
          "height": 419
        },
        "outputId": "f41d7660-98d1-42bb-c21d-125cf7ab26f8"
      },
      "source": [
        "fulfilment_center_info"
      ],
      "execution_count": null,
      "outputs": [
        {
          "output_type": "execute_result",
          "data": {
            "text/html": [
              "<div>\n",
              "<style scoped>\n",
              "    .dataframe tbody tr th:only-of-type {\n",
              "        vertical-align: middle;\n",
              "    }\n",
              "\n",
              "    .dataframe tbody tr th {\n",
              "        vertical-align: top;\n",
              "    }\n",
              "\n",
              "    .dataframe thead th {\n",
              "        text-align: right;\n",
              "    }\n",
              "</style>\n",
              "<table border=\"1\" class=\"dataframe\">\n",
              "  <thead>\n",
              "    <tr style=\"text-align: right;\">\n",
              "      <th></th>\n",
              "      <th>center_id</th>\n",
              "      <th>city_code</th>\n",
              "      <th>region_code</th>\n",
              "      <th>center_type</th>\n",
              "      <th>op_area</th>\n",
              "    </tr>\n",
              "  </thead>\n",
              "  <tbody>\n",
              "    <tr>\n",
              "      <th>0</th>\n",
              "      <td>11</td>\n",
              "      <td>679</td>\n",
              "      <td>56</td>\n",
              "      <td>TYPE_A</td>\n",
              "      <td>3.7</td>\n",
              "    </tr>\n",
              "    <tr>\n",
              "      <th>1</th>\n",
              "      <td>13</td>\n",
              "      <td>590</td>\n",
              "      <td>56</td>\n",
              "      <td>TYPE_B</td>\n",
              "      <td>6.7</td>\n",
              "    </tr>\n",
              "    <tr>\n",
              "      <th>2</th>\n",
              "      <td>124</td>\n",
              "      <td>590</td>\n",
              "      <td>56</td>\n",
              "      <td>TYPE_C</td>\n",
              "      <td>4.0</td>\n",
              "    </tr>\n",
              "    <tr>\n",
              "      <th>3</th>\n",
              "      <td>66</td>\n",
              "      <td>648</td>\n",
              "      <td>34</td>\n",
              "      <td>TYPE_A</td>\n",
              "      <td>4.1</td>\n",
              "    </tr>\n",
              "    <tr>\n",
              "      <th>4</th>\n",
              "      <td>94</td>\n",
              "      <td>632</td>\n",
              "      <td>34</td>\n",
              "      <td>TYPE_C</td>\n",
              "      <td>3.6</td>\n",
              "    </tr>\n",
              "    <tr>\n",
              "      <th>...</th>\n",
              "      <td>...</td>\n",
              "      <td>...</td>\n",
              "      <td>...</td>\n",
              "      <td>...</td>\n",
              "      <td>...</td>\n",
              "    </tr>\n",
              "    <tr>\n",
              "      <th>72</th>\n",
              "      <td>53</td>\n",
              "      <td>590</td>\n",
              "      <td>56</td>\n",
              "      <td>TYPE_A</td>\n",
              "      <td>3.8</td>\n",
              "    </tr>\n",
              "    <tr>\n",
              "      <th>73</th>\n",
              "      <td>30</td>\n",
              "      <td>604</td>\n",
              "      <td>56</td>\n",
              "      <td>TYPE_A</td>\n",
              "      <td>3.5</td>\n",
              "    </tr>\n",
              "    <tr>\n",
              "      <th>74</th>\n",
              "      <td>76</td>\n",
              "      <td>614</td>\n",
              "      <td>85</td>\n",
              "      <td>TYPE_A</td>\n",
              "      <td>3.0</td>\n",
              "    </tr>\n",
              "    <tr>\n",
              "      <th>75</th>\n",
              "      <td>68</td>\n",
              "      <td>676</td>\n",
              "      <td>34</td>\n",
              "      <td>TYPE_B</td>\n",
              "      <td>4.1</td>\n",
              "    </tr>\n",
              "    <tr>\n",
              "      <th>76</th>\n",
              "      <td>51</td>\n",
              "      <td>638</td>\n",
              "      <td>56</td>\n",
              "      <td>TYPE_A</td>\n",
              "      <td>7.0</td>\n",
              "    </tr>\n",
              "  </tbody>\n",
              "</table>\n",
              "<p>77 rows × 5 columns</p>\n",
              "</div>"
            ],
            "text/plain": [
              "    center_id  city_code  region_code center_type  op_area\n",
              "0          11        679           56      TYPE_A      3.7\n",
              "1          13        590           56      TYPE_B      6.7\n",
              "2         124        590           56      TYPE_C      4.0\n",
              "3          66        648           34      TYPE_A      4.1\n",
              "4          94        632           34      TYPE_C      3.6\n",
              "..        ...        ...          ...         ...      ...\n",
              "72         53        590           56      TYPE_A      3.8\n",
              "73         30        604           56      TYPE_A      3.5\n",
              "74         76        614           85      TYPE_A      3.0\n",
              "75         68        676           34      TYPE_B      4.1\n",
              "76         51        638           56      TYPE_A      7.0\n",
              "\n",
              "[77 rows x 5 columns]"
            ]
          },
          "metadata": {
            "tags": []
          },
          "execution_count": 11
        }
      ]
    },
    {
      "cell_type": "markdown",
      "metadata": {
        "id": "0FCbX0h8YAAl"
      },
      "source": [
        "# Part I: Preparation"
      ]
    },
    {
      "cell_type": "markdown",
      "metadata": {
        "id": "5ymYlGCEsU3G"
      },
      "source": [
        "Объединим данные со всех таблиц в один датафрейм `all_data`"
      ]
    },
    {
      "cell_type": "code",
      "metadata": {
        "id": "ZbS7Bx7zanpV",
        "colab": {
          "base_uri": "https://localhost:8080/",
          "height": 821
        },
        "outputId": "bd3fb3a5-a0f3-48a7-a436-edf9802a8b63"
      },
      "source": [
        "all_data = train.merge(meal_info, on=\"meal_id\", how=\"left\").merge(\n",
        "                       fulfilment_center_info, on=\"center_id\", how=\"left\")\n",
        "test = test.merge(meal_info, on=\"meal_id\", how=\"left\").merge(\n",
        "                   fulfilment_center_info, on=\"center_id\", how=\"left\")\n",
        "\n",
        "display(all_data, test)"
      ],
      "execution_count": null,
      "outputs": [
        {
          "output_type": "display_data",
          "data": {
            "text/html": [
              "<div>\n",
              "<style scoped>\n",
              "    .dataframe tbody tr th:only-of-type {\n",
              "        vertical-align: middle;\n",
              "    }\n",
              "\n",
              "    .dataframe tbody tr th {\n",
              "        vertical-align: top;\n",
              "    }\n",
              "\n",
              "    .dataframe thead th {\n",
              "        text-align: right;\n",
              "    }\n",
              "</style>\n",
              "<table border=\"1\" class=\"dataframe\">\n",
              "  <thead>\n",
              "    <tr style=\"text-align: right;\">\n",
              "      <th></th>\n",
              "      <th>id</th>\n",
              "      <th>week</th>\n",
              "      <th>center_id</th>\n",
              "      <th>meal_id</th>\n",
              "      <th>checkout_price</th>\n",
              "      <th>base_price</th>\n",
              "      <th>emailer_for_promotion</th>\n",
              "      <th>homepage_featured</th>\n",
              "      <th>num_orders</th>\n",
              "      <th>category</th>\n",
              "      <th>cuisine</th>\n",
              "      <th>city_code</th>\n",
              "      <th>region_code</th>\n",
              "      <th>center_type</th>\n",
              "      <th>op_area</th>\n",
              "    </tr>\n",
              "  </thead>\n",
              "  <tbody>\n",
              "    <tr>\n",
              "      <th>0</th>\n",
              "      <td>1379560</td>\n",
              "      <td>1</td>\n",
              "      <td>55</td>\n",
              "      <td>1885</td>\n",
              "      <td>136.83</td>\n",
              "      <td>152.29</td>\n",
              "      <td>0</td>\n",
              "      <td>0</td>\n",
              "      <td>177</td>\n",
              "      <td>Beverages</td>\n",
              "      <td>Thai</td>\n",
              "      <td>647</td>\n",
              "      <td>56</td>\n",
              "      <td>TYPE_C</td>\n",
              "      <td>2.0</td>\n",
              "    </tr>\n",
              "    <tr>\n",
              "      <th>1</th>\n",
              "      <td>1466964</td>\n",
              "      <td>1</td>\n",
              "      <td>55</td>\n",
              "      <td>1993</td>\n",
              "      <td>136.83</td>\n",
              "      <td>135.83</td>\n",
              "      <td>0</td>\n",
              "      <td>0</td>\n",
              "      <td>270</td>\n",
              "      <td>Beverages</td>\n",
              "      <td>Thai</td>\n",
              "      <td>647</td>\n",
              "      <td>56</td>\n",
              "      <td>TYPE_C</td>\n",
              "      <td>2.0</td>\n",
              "    </tr>\n",
              "    <tr>\n",
              "      <th>2</th>\n",
              "      <td>1346989</td>\n",
              "      <td>1</td>\n",
              "      <td>55</td>\n",
              "      <td>2539</td>\n",
              "      <td>134.86</td>\n",
              "      <td>135.86</td>\n",
              "      <td>0</td>\n",
              "      <td>0</td>\n",
              "      <td>189</td>\n",
              "      <td>Beverages</td>\n",
              "      <td>Thai</td>\n",
              "      <td>647</td>\n",
              "      <td>56</td>\n",
              "      <td>TYPE_C</td>\n",
              "      <td>2.0</td>\n",
              "    </tr>\n",
              "    <tr>\n",
              "      <th>3</th>\n",
              "      <td>1338232</td>\n",
              "      <td>1</td>\n",
              "      <td>55</td>\n",
              "      <td>2139</td>\n",
              "      <td>339.50</td>\n",
              "      <td>437.53</td>\n",
              "      <td>0</td>\n",
              "      <td>0</td>\n",
              "      <td>54</td>\n",
              "      <td>Beverages</td>\n",
              "      <td>Indian</td>\n",
              "      <td>647</td>\n",
              "      <td>56</td>\n",
              "      <td>TYPE_C</td>\n",
              "      <td>2.0</td>\n",
              "    </tr>\n",
              "    <tr>\n",
              "      <th>4</th>\n",
              "      <td>1448490</td>\n",
              "      <td>1</td>\n",
              "      <td>55</td>\n",
              "      <td>2631</td>\n",
              "      <td>243.50</td>\n",
              "      <td>242.50</td>\n",
              "      <td>0</td>\n",
              "      <td>0</td>\n",
              "      <td>40</td>\n",
              "      <td>Beverages</td>\n",
              "      <td>Indian</td>\n",
              "      <td>647</td>\n",
              "      <td>56</td>\n",
              "      <td>TYPE_C</td>\n",
              "      <td>2.0</td>\n",
              "    </tr>\n",
              "    <tr>\n",
              "      <th>...</th>\n",
              "      <td>...</td>\n",
              "      <td>...</td>\n",
              "      <td>...</td>\n",
              "      <td>...</td>\n",
              "      <td>...</td>\n",
              "      <td>...</td>\n",
              "      <td>...</td>\n",
              "      <td>...</td>\n",
              "      <td>...</td>\n",
              "      <td>...</td>\n",
              "      <td>...</td>\n",
              "      <td>...</td>\n",
              "      <td>...</td>\n",
              "      <td>...</td>\n",
              "      <td>...</td>\n",
              "    </tr>\n",
              "    <tr>\n",
              "      <th>456543</th>\n",
              "      <td>1271326</td>\n",
              "      <td>145</td>\n",
              "      <td>61</td>\n",
              "      <td>1543</td>\n",
              "      <td>484.09</td>\n",
              "      <td>484.09</td>\n",
              "      <td>0</td>\n",
              "      <td>0</td>\n",
              "      <td>68</td>\n",
              "      <td>Desert</td>\n",
              "      <td>Indian</td>\n",
              "      <td>473</td>\n",
              "      <td>77</td>\n",
              "      <td>TYPE_A</td>\n",
              "      <td>4.5</td>\n",
              "    </tr>\n",
              "    <tr>\n",
              "      <th>456544</th>\n",
              "      <td>1062036</td>\n",
              "      <td>145</td>\n",
              "      <td>61</td>\n",
              "      <td>2304</td>\n",
              "      <td>482.09</td>\n",
              "      <td>482.09</td>\n",
              "      <td>0</td>\n",
              "      <td>0</td>\n",
              "      <td>42</td>\n",
              "      <td>Desert</td>\n",
              "      <td>Indian</td>\n",
              "      <td>473</td>\n",
              "      <td>77</td>\n",
              "      <td>TYPE_A</td>\n",
              "      <td>4.5</td>\n",
              "    </tr>\n",
              "    <tr>\n",
              "      <th>456545</th>\n",
              "      <td>1110849</td>\n",
              "      <td>145</td>\n",
              "      <td>61</td>\n",
              "      <td>2664</td>\n",
              "      <td>237.68</td>\n",
              "      <td>321.07</td>\n",
              "      <td>0</td>\n",
              "      <td>0</td>\n",
              "      <td>501</td>\n",
              "      <td>Salad</td>\n",
              "      <td>Italian</td>\n",
              "      <td>473</td>\n",
              "      <td>77</td>\n",
              "      <td>TYPE_A</td>\n",
              "      <td>4.5</td>\n",
              "    </tr>\n",
              "    <tr>\n",
              "      <th>456546</th>\n",
              "      <td>1147725</td>\n",
              "      <td>145</td>\n",
              "      <td>61</td>\n",
              "      <td>2569</td>\n",
              "      <td>243.50</td>\n",
              "      <td>313.34</td>\n",
              "      <td>0</td>\n",
              "      <td>0</td>\n",
              "      <td>729</td>\n",
              "      <td>Salad</td>\n",
              "      <td>Italian</td>\n",
              "      <td>473</td>\n",
              "      <td>77</td>\n",
              "      <td>TYPE_A</td>\n",
              "      <td>4.5</td>\n",
              "    </tr>\n",
              "    <tr>\n",
              "      <th>456547</th>\n",
              "      <td>1361984</td>\n",
              "      <td>145</td>\n",
              "      <td>61</td>\n",
              "      <td>2490</td>\n",
              "      <td>292.03</td>\n",
              "      <td>290.03</td>\n",
              "      <td>0</td>\n",
              "      <td>0</td>\n",
              "      <td>162</td>\n",
              "      <td>Salad</td>\n",
              "      <td>Italian</td>\n",
              "      <td>473</td>\n",
              "      <td>77</td>\n",
              "      <td>TYPE_A</td>\n",
              "      <td>4.5</td>\n",
              "    </tr>\n",
              "  </tbody>\n",
              "</table>\n",
              "<p>456548 rows × 15 columns</p>\n",
              "</div>"
            ],
            "text/plain": [
              "             id  week  center_id  meal_id  checkout_price  base_price  \\\n",
              "0       1379560     1         55     1885          136.83      152.29   \n",
              "1       1466964     1         55     1993          136.83      135.83   \n",
              "2       1346989     1         55     2539          134.86      135.86   \n",
              "3       1338232     1         55     2139          339.50      437.53   \n",
              "4       1448490     1         55     2631          243.50      242.50   \n",
              "...         ...   ...        ...      ...             ...         ...   \n",
              "456543  1271326   145         61     1543          484.09      484.09   \n",
              "456544  1062036   145         61     2304          482.09      482.09   \n",
              "456545  1110849   145         61     2664          237.68      321.07   \n",
              "456546  1147725   145         61     2569          243.50      313.34   \n",
              "456547  1361984   145         61     2490          292.03      290.03   \n",
              "\n",
              "        emailer_for_promotion  homepage_featured  num_orders   category  \\\n",
              "0                           0                  0         177  Beverages   \n",
              "1                           0                  0         270  Beverages   \n",
              "2                           0                  0         189  Beverages   \n",
              "3                           0                  0          54  Beverages   \n",
              "4                           0                  0          40  Beverages   \n",
              "...                       ...                ...         ...        ...   \n",
              "456543                      0                  0          68     Desert   \n",
              "456544                      0                  0          42     Desert   \n",
              "456545                      0                  0         501      Salad   \n",
              "456546                      0                  0         729      Salad   \n",
              "456547                      0                  0         162      Salad   \n",
              "\n",
              "        cuisine  city_code  region_code center_type  op_area  \n",
              "0          Thai        647           56      TYPE_C      2.0  \n",
              "1          Thai        647           56      TYPE_C      2.0  \n",
              "2          Thai        647           56      TYPE_C      2.0  \n",
              "3        Indian        647           56      TYPE_C      2.0  \n",
              "4        Indian        647           56      TYPE_C      2.0  \n",
              "...         ...        ...          ...         ...      ...  \n",
              "456543   Indian        473           77      TYPE_A      4.5  \n",
              "456544   Indian        473           77      TYPE_A      4.5  \n",
              "456545  Italian        473           77      TYPE_A      4.5  \n",
              "456546  Italian        473           77      TYPE_A      4.5  \n",
              "456547  Italian        473           77      TYPE_A      4.5  \n",
              "\n",
              "[456548 rows x 15 columns]"
            ]
          },
          "metadata": {
            "tags": []
          }
        },
        {
          "output_type": "display_data",
          "data": {
            "text/html": [
              "<div>\n",
              "<style scoped>\n",
              "    .dataframe tbody tr th:only-of-type {\n",
              "        vertical-align: middle;\n",
              "    }\n",
              "\n",
              "    .dataframe tbody tr th {\n",
              "        vertical-align: top;\n",
              "    }\n",
              "\n",
              "    .dataframe thead th {\n",
              "        text-align: right;\n",
              "    }\n",
              "</style>\n",
              "<table border=\"1\" class=\"dataframe\">\n",
              "  <thead>\n",
              "    <tr style=\"text-align: right;\">\n",
              "      <th></th>\n",
              "      <th>id</th>\n",
              "      <th>week</th>\n",
              "      <th>center_id</th>\n",
              "      <th>meal_id</th>\n",
              "      <th>checkout_price</th>\n",
              "      <th>base_price</th>\n",
              "      <th>emailer_for_promotion</th>\n",
              "      <th>homepage_featured</th>\n",
              "      <th>category</th>\n",
              "      <th>cuisine</th>\n",
              "      <th>city_code</th>\n",
              "      <th>region_code</th>\n",
              "      <th>center_type</th>\n",
              "      <th>op_area</th>\n",
              "    </tr>\n",
              "  </thead>\n",
              "  <tbody>\n",
              "    <tr>\n",
              "      <th>0</th>\n",
              "      <td>1028232</td>\n",
              "      <td>146</td>\n",
              "      <td>55</td>\n",
              "      <td>1885</td>\n",
              "      <td>158.11</td>\n",
              "      <td>159.11</td>\n",
              "      <td>0</td>\n",
              "      <td>0</td>\n",
              "      <td>Beverages</td>\n",
              "      <td>Thai</td>\n",
              "      <td>647</td>\n",
              "      <td>56</td>\n",
              "      <td>TYPE_C</td>\n",
              "      <td>2.0</td>\n",
              "    </tr>\n",
              "    <tr>\n",
              "      <th>1</th>\n",
              "      <td>1127204</td>\n",
              "      <td>146</td>\n",
              "      <td>55</td>\n",
              "      <td>1993</td>\n",
              "      <td>160.11</td>\n",
              "      <td>159.11</td>\n",
              "      <td>0</td>\n",
              "      <td>0</td>\n",
              "      <td>Beverages</td>\n",
              "      <td>Thai</td>\n",
              "      <td>647</td>\n",
              "      <td>56</td>\n",
              "      <td>TYPE_C</td>\n",
              "      <td>2.0</td>\n",
              "    </tr>\n",
              "    <tr>\n",
              "      <th>2</th>\n",
              "      <td>1212707</td>\n",
              "      <td>146</td>\n",
              "      <td>55</td>\n",
              "      <td>2539</td>\n",
              "      <td>157.14</td>\n",
              "      <td>159.14</td>\n",
              "      <td>0</td>\n",
              "      <td>0</td>\n",
              "      <td>Beverages</td>\n",
              "      <td>Thai</td>\n",
              "      <td>647</td>\n",
              "      <td>56</td>\n",
              "      <td>TYPE_C</td>\n",
              "      <td>2.0</td>\n",
              "    </tr>\n",
              "    <tr>\n",
              "      <th>3</th>\n",
              "      <td>1082698</td>\n",
              "      <td>146</td>\n",
              "      <td>55</td>\n",
              "      <td>2631</td>\n",
              "      <td>162.02</td>\n",
              "      <td>162.02</td>\n",
              "      <td>0</td>\n",
              "      <td>0</td>\n",
              "      <td>Beverages</td>\n",
              "      <td>Indian</td>\n",
              "      <td>647</td>\n",
              "      <td>56</td>\n",
              "      <td>TYPE_C</td>\n",
              "      <td>2.0</td>\n",
              "    </tr>\n",
              "    <tr>\n",
              "      <th>4</th>\n",
              "      <td>1400926</td>\n",
              "      <td>146</td>\n",
              "      <td>55</td>\n",
              "      <td>1248</td>\n",
              "      <td>163.93</td>\n",
              "      <td>163.93</td>\n",
              "      <td>0</td>\n",
              "      <td>0</td>\n",
              "      <td>Beverages</td>\n",
              "      <td>Indian</td>\n",
              "      <td>647</td>\n",
              "      <td>56</td>\n",
              "      <td>TYPE_C</td>\n",
              "      <td>2.0</td>\n",
              "    </tr>\n",
              "    <tr>\n",
              "      <th>...</th>\n",
              "      <td>...</td>\n",
              "      <td>...</td>\n",
              "      <td>...</td>\n",
              "      <td>...</td>\n",
              "      <td>...</td>\n",
              "      <td>...</td>\n",
              "      <td>...</td>\n",
              "      <td>...</td>\n",
              "      <td>...</td>\n",
              "      <td>...</td>\n",
              "      <td>...</td>\n",
              "      <td>...</td>\n",
              "      <td>...</td>\n",
              "      <td>...</td>\n",
              "    </tr>\n",
              "    <tr>\n",
              "      <th>32568</th>\n",
              "      <td>1250239</td>\n",
              "      <td>155</td>\n",
              "      <td>61</td>\n",
              "      <td>1543</td>\n",
              "      <td>482.09</td>\n",
              "      <td>484.09</td>\n",
              "      <td>0</td>\n",
              "      <td>0</td>\n",
              "      <td>Desert</td>\n",
              "      <td>Indian</td>\n",
              "      <td>473</td>\n",
              "      <td>77</td>\n",
              "      <td>TYPE_A</td>\n",
              "      <td>4.5</td>\n",
              "    </tr>\n",
              "    <tr>\n",
              "      <th>32569</th>\n",
              "      <td>1039516</td>\n",
              "      <td>155</td>\n",
              "      <td>61</td>\n",
              "      <td>2304</td>\n",
              "      <td>483.09</td>\n",
              "      <td>483.09</td>\n",
              "      <td>0</td>\n",
              "      <td>0</td>\n",
              "      <td>Desert</td>\n",
              "      <td>Indian</td>\n",
              "      <td>473</td>\n",
              "      <td>77</td>\n",
              "      <td>TYPE_A</td>\n",
              "      <td>4.5</td>\n",
              "    </tr>\n",
              "    <tr>\n",
              "      <th>32570</th>\n",
              "      <td>1158107</td>\n",
              "      <td>155</td>\n",
              "      <td>61</td>\n",
              "      <td>2664</td>\n",
              "      <td>322.07</td>\n",
              "      <td>323.07</td>\n",
              "      <td>0</td>\n",
              "      <td>0</td>\n",
              "      <td>Salad</td>\n",
              "      <td>Italian</td>\n",
              "      <td>473</td>\n",
              "      <td>77</td>\n",
              "      <td>TYPE_A</td>\n",
              "      <td>4.5</td>\n",
              "    </tr>\n",
              "    <tr>\n",
              "      <th>32571</th>\n",
              "      <td>1444235</td>\n",
              "      <td>155</td>\n",
              "      <td>61</td>\n",
              "      <td>2569</td>\n",
              "      <td>322.07</td>\n",
              "      <td>323.07</td>\n",
              "      <td>0</td>\n",
              "      <td>0</td>\n",
              "      <td>Salad</td>\n",
              "      <td>Italian</td>\n",
              "      <td>473</td>\n",
              "      <td>77</td>\n",
              "      <td>TYPE_A</td>\n",
              "      <td>4.5</td>\n",
              "    </tr>\n",
              "    <tr>\n",
              "      <th>32572</th>\n",
              "      <td>1291286</td>\n",
              "      <td>155</td>\n",
              "      <td>61</td>\n",
              "      <td>2490</td>\n",
              "      <td>276.45</td>\n",
              "      <td>276.45</td>\n",
              "      <td>0</td>\n",
              "      <td>0</td>\n",
              "      <td>Salad</td>\n",
              "      <td>Italian</td>\n",
              "      <td>473</td>\n",
              "      <td>77</td>\n",
              "      <td>TYPE_A</td>\n",
              "      <td>4.5</td>\n",
              "    </tr>\n",
              "  </tbody>\n",
              "</table>\n",
              "<p>32573 rows × 14 columns</p>\n",
              "</div>"
            ],
            "text/plain": [
              "            id  week  center_id  meal_id  checkout_price  base_price  \\\n",
              "0      1028232   146         55     1885          158.11      159.11   \n",
              "1      1127204   146         55     1993          160.11      159.11   \n",
              "2      1212707   146         55     2539          157.14      159.14   \n",
              "3      1082698   146         55     2631          162.02      162.02   \n",
              "4      1400926   146         55     1248          163.93      163.93   \n",
              "...        ...   ...        ...      ...             ...         ...   \n",
              "32568  1250239   155         61     1543          482.09      484.09   \n",
              "32569  1039516   155         61     2304          483.09      483.09   \n",
              "32570  1158107   155         61     2664          322.07      323.07   \n",
              "32571  1444235   155         61     2569          322.07      323.07   \n",
              "32572  1291286   155         61     2490          276.45      276.45   \n",
              "\n",
              "       emailer_for_promotion  homepage_featured   category  cuisine  \\\n",
              "0                          0                  0  Beverages     Thai   \n",
              "1                          0                  0  Beverages     Thai   \n",
              "2                          0                  0  Beverages     Thai   \n",
              "3                          0                  0  Beverages   Indian   \n",
              "4                          0                  0  Beverages   Indian   \n",
              "...                      ...                ...        ...      ...   \n",
              "32568                      0                  0     Desert   Indian   \n",
              "32569                      0                  0     Desert   Indian   \n",
              "32570                      0                  0      Salad  Italian   \n",
              "32571                      0                  0      Salad  Italian   \n",
              "32572                      0                  0      Salad  Italian   \n",
              "\n",
              "       city_code  region_code center_type  op_area  \n",
              "0            647           56      TYPE_C      2.0  \n",
              "1            647           56      TYPE_C      2.0  \n",
              "2            647           56      TYPE_C      2.0  \n",
              "3            647           56      TYPE_C      2.0  \n",
              "4            647           56      TYPE_C      2.0  \n",
              "...          ...          ...         ...      ...  \n",
              "32568        473           77      TYPE_A      4.5  \n",
              "32569        473           77      TYPE_A      4.5  \n",
              "32570        473           77      TYPE_A      4.5  \n",
              "32571        473           77      TYPE_A      4.5  \n",
              "32572        473           77      TYPE_A      4.5  \n",
              "\n",
              "[32573 rows x 14 columns]"
            ]
          },
          "metadata": {
            "tags": []
          }
        }
      ]
    },
    {
      "cell_type": "markdown",
      "metadata": {
        "id": "umekegRAWNHk"
      },
      "source": [
        "Число столбцов в `all_data` по типу. Как видно, все признаки имеют числовой тип. Однако, некоторые из них фактически являются категориальными. Для нашего удобства создадим списки с именами категориальных и числовых признаков."
      ]
    },
    {
      "cell_type": "code",
      "metadata": {
        "id": "1p4xEumBT84T",
        "colab": {
          "base_uri": "https://localhost:8080/"
        },
        "outputId": "729b5e93-4b89-41b6-8e8b-55742ef4b142"
      },
      "source": [
        "all_data.dtypes.value_counts()"
      ],
      "execution_count": null,
      "outputs": [
        {
          "output_type": "execute_result",
          "data": {
            "text/plain": [
              "int64      9\n",
              "float64    3\n",
              "object     3\n",
              "dtype: int64"
            ]
          },
          "metadata": {
            "tags": []
          },
          "execution_count": 13
        }
      ]
    },
    {
      "cell_type": "code",
      "metadata": {
        "id": "LPCZQ6SZX4fW",
        "colab": {
          "base_uri": "https://localhost:8080/"
        },
        "outputId": "d17825ba-57d1-4949-df83-c13ef4abe38d"
      },
      "source": [
        "all_data.columns"
      ],
      "execution_count": null,
      "outputs": [
        {
          "output_type": "execute_result",
          "data": {
            "text/plain": [
              "Index(['id', 'week', 'center_id', 'meal_id', 'checkout_price', 'base_price',\n",
              "       'emailer_for_promotion', 'homepage_featured', 'num_orders', 'category',\n",
              "       'cuisine', 'city_code', 'region_code', 'center_type', 'op_area'],\n",
              "      dtype='object')"
            ]
          },
          "metadata": {
            "tags": []
          },
          "execution_count": 14
        }
      ]
    },
    {
      "cell_type": "code",
      "metadata": {
        "id": "Cv6bzP3TUvXT",
        "colab": {
          "base_uri": "https://localhost:8080/"
        },
        "outputId": "c02634f3-4929-4464-b294-4c736fa0b8f8"
      },
      "source": [
        "all_data[\"op_area\"].value_counts()"
      ],
      "execution_count": null,
      "outputs": [
        {
          "output_type": "execute_result",
          "data": {
            "text/plain": [
              "4.0    52548\n",
              "3.9    48533\n",
              "3.8    40080\n",
              "4.4    26060\n",
              "4.5    25688\n",
              "2.8    25503\n",
              "4.1    23346\n",
              "7.0    20686\n",
              "4.8    18648\n",
              "3.4    17258\n",
              "3.6    16821\n",
              "5.1    13366\n",
              "4.2    12608\n",
              "2.7    12430\n",
              "3.0    11184\n",
              "2.0     9512\n",
              "6.7     7046\n",
              "6.3     7015\n",
              "5.6     6993\n",
              "3.7     6801\n",
              "3.5     6666\n",
              "3.2     6333\n",
              "5.0     6164\n",
              "5.3     6053\n",
              "4.6     5983\n",
              "4.7     5975\n",
              "2.4     5021\n",
              "2.9     4712\n",
              "1.9     4083\n",
              "0.9     3432\n",
              "Name: op_area, dtype: int64"
            ]
          },
          "metadata": {
            "tags": []
          },
          "execution_count": 15
        }
      ]
    },
    {
      "cell_type": "code",
      "metadata": {
        "id": "qjbWSirbkXyO"
      },
      "source": [
        "all_data[\"op_area\"] = (all_data[\"op_area\"] * 10).astype(int)"
      ],
      "execution_count": null,
      "outputs": []
    },
    {
      "cell_type": "code",
      "metadata": {
        "id": "S8FfHLGcTKZz"
      },
      "source": [
        "# Категориальные признаки\n",
        "cat_features = [\n",
        "        \"center_id\", \"meal_id\", \"emailer_for_promotion\", \n",
        "        \"homepage_featured\", \"category\", \"cuisine\", \n",
        "        \"city_code\", \"region_code\", \"center_type\"\n",
        "]\n",
        "# Числовые признаки\n",
        "num_features = [\"week\", \"checkout_price\", \"base_price\", \"op_area\"]\n",
        "# Все признаки\n",
        "feature_cols = num_features + cat_features\n",
        "# Целевая переменная\n",
        "target_col = 'num_orders'"
      ],
      "execution_count": null,
      "outputs": []
    },
    {
      "cell_type": "code",
      "metadata": {
        "id": "jBQhQv-wn9G_"
      },
      "source": [
        "X = all_data[feature_cols]\n",
        "Y = all_data[target_col]\n",
        "# После выделения названий признаков в список, порядок столбцов изменился\n",
        "test = test[feature_cols]"
      ],
      "execution_count": null,
      "outputs": []
    },
    {
      "cell_type": "markdown",
      "metadata": {
        "id": "M4hjUxXptM-A"
      },
      "source": [
        "# Part II: EDA"
      ]
    },
    {
      "cell_type": "code",
      "metadata": {
        "id": "5Q43S6mdefC8",
        "colab": {
          "base_uri": "https://localhost:8080/",
          "height": 261
        },
        "outputId": "8899bc70-9c34-4284-ecf6-1e601b929231"
      },
      "source": [
        "df = X[[\"center_id\", \"meal_id\"]].groupby(\"center_id\").nunique()\n",
        "df.sort_values('meal_id', inplace=True)\n",
        "df.reset_index(inplace=True)\n",
        "\n",
        "fig, ax = plt.subplots(figsize=(22,8), facecolor='white', dpi= 80)\n",
        "ax.vlines(x=df.index, ymin=0, ymax=df.meal_id, color='firebrick', alpha=0.7, linewidth=5)\n",
        "\n",
        "# Annotate Text\n",
        "for i, meal_id in enumerate(df.meal_id):\n",
        "    ax.text(i, meal_id+1, meal_id, horizontalalignment='center')\n",
        "\n",
        "\n",
        "# Title, Label, Ticks and Ylim\n",
        "ax.set_title('Количество уникальной продукции по каждому центру', fontdict={'size':22})\n",
        "ax.set(ylabel='count', ylim=(0, 60))\n",
        "plt.xticks(df.index, df.center_id, rotation=90, horizontalalignment='center', fontsize=12)\n",
        "\n",
        "plt.show()"
      ],
      "execution_count": null,
      "outputs": [
        {
          "output_type": "display_data",
          "data": {
            "image/png": "[encoded data removed]",
            "text/plain": [
              "<Figure size 1760x640 with 1 Axes>"
            ]
          },
          "metadata": {
            "tags": []
          }
        }
      ]
    },
    {
      "cell_type": "markdown",
      "metadata": {
        "id": "9k8ucmGqS2Jy"
      },
      "source": [
        "### 2.1 Исследование данных на наличие пропусков и некорректных значений. \n",
        "\n",
        "**Либо удалим их, либо сделаем imputing (проинтерполируем).**\n"
      ]
    },
    {
      "cell_type": "markdown",
      "metadata": {
        "id": "Molgm8TpS7Sz"
      },
      "source": [
        "Данные могут иметь пропущенные значения не случайно, а в виду некоторых закономерностей. В таких случаях пропуски можно выразить на основе информации, содержащейся в наборе данных. Благодаря описанию данных, приложенных к соревнованию, можно заменить их подходящими значениями."
      ]
    },
    {
      "cell_type": "code",
      "metadata": {
        "id": "qS_9WXroPfOC",
        "colab": {
          "base_uri": "https://localhost:8080/"
        },
        "outputId": "9366613e-5a26-4060-bd1d-3d6956ef379c"
      },
      "source": [
        "cprint(\"Dtypes in Train :\", 'green')\n",
        "cprint('*'*35, 'green')\n",
        "print('\\n', X.info())\n",
        "\n",
        "cprint(\"Dtypes in Test :\", 'green')\n",
        "cprint('*'*35, 'green')\n",
        "print('\\n', test.info())"
      ],
      "execution_count": null,
      "outputs": [
        {
          "output_type": "stream",
          "text": [
            "\u001b[32mDtypes in Train :\u001b[0m\n",
            "\u001b[32m***********************************\u001b[0m\n",
            "<class 'pandas.core.frame.DataFrame'>\n",
            "Int64Index: 456548 entries, 0 to 456547\n",
            "Data columns (total 13 columns):\n",
            " #   Column                 Non-Null Count   Dtype  \n",
            "---  ------                 --------------   -----  \n",
            " 0   week                   456548 non-null  int64  \n",
            " 1   checkout_price         456548 non-null  float64\n",
            " 2   base_price             456548 non-null  float64\n",
            " 3   op_area                456548 non-null  int64  \n",
            " 4   center_id              456548 non-null  int64  \n",
            " 5   meal_id                456548 non-null  int64  \n",
            " 6   emailer_for_promotion  456548 non-null  int64  \n",
            " 7   homepage_featured      456548 non-null  int64  \n",
            " 8   category               456548 non-null  object \n",
            " 9   cuisine                456548 non-null  object \n",
            " 10  city_code              456548 non-null  int64  \n",
            " 11  region_code            456548 non-null  int64  \n",
            " 12  center_type            456548 non-null  object \n",
            "dtypes: float64(2), int64(8), object(3)\n",
            "memory usage: 48.8+ MB\n",
            "\n",
            " None\n",
            "\u001b[32mDtypes in Test :\u001b[0m\n",
            "\u001b[32m***********************************\u001b[0m\n",
            "<class 'pandas.core.frame.DataFrame'>\n",
            "Int64Index: 32573 entries, 0 to 32572\n",
            "Data columns (total 13 columns):\n",
            " #   Column                 Non-Null Count  Dtype  \n",
            "---  ------                 --------------  -----  \n",
            " 0   week                   32573 non-null  int64  \n",
            " 1   checkout_price         32573 non-null  float64\n",
            " 2   base_price             32573 non-null  float64\n",
            " 3   op_area                32573 non-null  float64\n",
            " 4   center_id              32573 non-null  int64  \n",
            " 5   meal_id                32573 non-null  int64  \n",
            " 6   emailer_for_promotion  32573 non-null  int64  \n",
            " 7   homepage_featured      32573 non-null  int64  \n",
            " 8   category               32573 non-null  object \n",
            " 9   cuisine                32573 non-null  object \n",
            " 10  city_code              32573 non-null  int64  \n",
            " 11  region_code            32573 non-null  int64  \n",
            " 12  center_type            32573 non-null  object \n",
            "dtypes: float64(3), int64(7), object(3)\n",
            "memory usage: 3.5+ MB\n",
            "\n",
            " None\n"
          ],
          "name": "stdout"
        }
      ]
    },
    {
      "cell_type": "markdown",
      "metadata": {
        "id": "gW0BmU_UXr9_"
      },
      "source": [
        "### 2.2 Распределение целевой переменной. Поиск аномалий.\n",
        "\n",
        "**Можно убрать выбросы из датасета или преобразовать целевую переменную (например, посредством преобразования Бокса-Кокса).**"
      ]
    },
    {
      "cell_type": "code",
      "metadata": {
        "id": "pVoDtAEqb0kY",
        "colab": {
          "base_uri": "https://localhost:8080/",
          "height": 623
        },
        "outputId": "a1290c06-e6f3-4315-c434-4243bf71e640"
      },
      "source": [
        "with sns.axes_style('darkgrid'):\n",
        "    fig = plt.figure(figsize=(15,7))\n",
        "\n",
        "    sns.histplot(data=Y, bins=200, kde=True, color=\"Green\")\n",
        "    \n",
        "    plt.title(\"Распределение num_orders (target)\", fontsize = 22, fontweight=\"bold\")\n",
        "    plt.xlabel(\"num_orders\", fontsize=14)\n",
        "    plt.ylabel('count', fontsize=14)    \n",
        "\n",
        "    display(Y.describe())\n",
        "    \n",
        "    plt.show()"
      ],
      "execution_count": null,
      "outputs": [
        {
          "output_type": "display_data",
          "data": {
            "text/plain": [
              "count    456548.000000\n",
              "mean        261.872760\n",
              "std         395.922798\n",
              "min          13.000000\n",
              "25%          54.000000\n",
              "50%         136.000000\n",
              "75%         324.000000\n",
              "max       24299.000000\n",
              "Name: num_orders, dtype: float64"
            ]
          },
          "metadata": {
            "tags": []
          }
        },
        {
          "output_type": "display_data",
          "data": {
            "image/png": "[encoded data removed]",
            "text/plain": [
              "<Figure size 1080x504 with 1 Axes>"
            ]
          },
          "metadata": {
            "tags": []
          }
        }
      ]
    },
    {
      "cell_type": "code",
      "metadata": {
        "id": "g4b4J3rgpasB",
        "colab": {
          "base_uri": "https://localhost:8080/",
          "height": 68
        },
        "outputId": "62a12ba6-fbad-4e13-afc9-87b59fec36b6"
      },
      "source": [
        "# display(Y[Y >= 1000].shape[0])\n",
        "# display(Y[Y >= 700].shape[0])\n",
        "# display(Y[Y >= 600].shape[0])\n",
        "\n",
        "display(Y.shape[0], Y[Y >= 900].shape[0])\n",
        "display(np.quantile(Y, 0.95))"
      ],
      "execution_count": null,
      "outputs": [
        {
          "output_type": "display_data",
          "data": {
            "text/plain": [
              "456548"
            ]
          },
          "metadata": {
            "tags": []
          }
        },
        {
          "output_type": "display_data",
          "data": {
            "text/plain": [
              "21828"
            ]
          },
          "metadata": {
            "tags": []
          }
        },
        {
          "output_type": "display_data",
          "data": {
            "text/plain": [
              "878.0"
            ]
          },
          "metadata": {
            "tags": []
          }
        }
      ]
    },
    {
      "cell_type": "code",
      "metadata": {
        "id": "4qS-Qa8ZnUUh"
      },
      "source": [
        "Y, lambda_boxcox = sps.boxcox(Y)\n",
        "Y = pd.Series(Y, name=target_col)"
      ],
      "execution_count": null,
      "outputs": []
    },
    {
      "cell_type": "code",
      "metadata": {
        "id": "JcTGUV0bo2ng",
        "colab": {
          "base_uri": "https://localhost:8080/",
          "height": 468
        },
        "outputId": "95a4562b-cabb-4424-cf22-7f0e14559a91"
      },
      "source": [
        "with sns.axes_style('darkgrid'):\n",
        "    fig = plt.figure(figsize=(15,7))\n",
        "\n",
        "    sns.histplot(data=Y, bins=100, kde=True, color=\"Green\")\n",
        "    \n",
        "    plt.title(\"Распределение num_orders после применения преобразования Бокса-Кокса \", \n",
        "              fontsize = 18, fontweight=\"bold\")\n",
        "    plt.xlabel(\"num_orders\", fontsize=14)\n",
        "    plt.ylabel('count', fontsize=14)\n",
        "\n",
        "    plt.show()"
      ],
      "execution_count": null,
      "outputs": [
        {
          "output_type": "display_data",
          "data": {
            "image/png": "[encoded data removed]",
            "text/plain": [
              "<Figure size 1080x504 with 1 Axes>"
            ]
          },
          "metadata": {
            "tags": []
          }
        }
      ]
    },
    {
      "cell_type": "code",
      "metadata": {
        "id": "wLOk0ft5cB7y",
        "colab": {
          "base_uri": "https://localhost:8080/",
          "height": 593
        },
        "outputId": "79b3fa9f-3420-4cfc-f279-e87ec515b78c"
      },
      "source": [
        "# Prepare Data\n",
        "df = X[[\"meal_id\", \"week\"]].groupby('meal_id').nunique()\n",
        "df.sort_values('week', inplace=True)\n",
        "df.reset_index(inplace=True)\n",
        "\n",
        "# Draw plot\n",
        "fig, ax = plt.subplots(figsize=(20,8), dpi= 80)\n",
        "ax.vlines(x=df.index, ymin=0, ymax=df.week, color='firebrick', alpha=0.7, linewidth=1.5)\n",
        "ax.scatter(x=df.index, y=df.week, s=75, color='firebrick', alpha=0.7)\n",
        "\n",
        "# Title, Label, Ticks and Ylim\n",
        "ax.set_title(\"История каждого товара по неделям\")\n",
        "ax.set_ylabel('count')\n",
        "ax.set_xticks(df.index)\n",
        "ax.set_xticklabels(df.meal_id, rotation=90, fontdict={'horizontalalignment': 'center', 'size':12})\n",
        "ax.set_ylim(0, 160)\n",
        "\n",
        "# Draw plot\n",
        "import matplotlib.patches as patches\n",
        "\n",
        "# Annotate\n",
        "for row in df.itertuples():\n",
        "    ax.text(row.Index, row.week+1.5, s=row.week, horizontalalignment= 'center', verticalalignment='bottom', fontsize=9)\n",
        "\n",
        "# Add patches to color the X axis labels\n",
        "p1 = patches.Rectangle((.145, 0.044), width=.093, height=.08, alpha=.09, facecolor='red', transform=fig.transFigure)\n",
        "p2 = patches.Rectangle((.238, 0.044), width=.638, height=.08, alpha=.09, facecolor='green', transform=fig.transFigure)\n",
        "fig.add_artist(p1)\n",
        "fig.add_artist(p2)\n",
        "plt.show()"
      ],
      "execution_count": null,
      "outputs": [
        {
          "output_type": "display_data",
          "data": {
            "image/png": "[encoded data removed]",
            "text/plain": [
              "<Figure size 1600x640 with 1 Axes>"
            ]
          },
          "metadata": {
            "tags": [],
            "needs_background": "light"
          }
        }
      ]
    },
    {
      "cell_type": "markdown",
      "metadata": {
        "id": "zKzzVm6uFnAM"
      },
      "source": [
        "Видим, что не по всем товарам есть полная история в 145 недель (`2956`, `1571`, `2104`, `2490`, `2569`, `2664`). Тем не менее, история всё равно большая"
      ]
    },
    {
      "cell_type": "code",
      "metadata": {
        "id": "yjmwcdQaev6P",
        "colab": {
          "base_uri": "https://localhost:8080/"
        },
        "outputId": "ffaf7a82-9fa4-4bd3-cfad-30cfda2d2c5d"
      },
      "source": [
        "print(\"Всего уникальных центров:\", X.center_id.nunique())\n",
        "print(\"Всего уникальных видов еды:\", X.meal_id.nunique())"
      ],
      "execution_count": null,
      "outputs": [
        {
          "output_type": "stream",
          "text": [
            "Всего уникальных центров: 77\n",
            "Всего уникальных видов еды: 51\n"
          ],
          "name": "stdout"
        }
      ]
    },
    {
      "cell_type": "markdown",
      "metadata": {
        "id": "vFmG__KDeVZW"
      },
      "source": [
        "**Вывод по данным:**\n",
        "\n",
        "В обучающей выборке отсутствуют пропуски, но были обнаружены выбросы.\n",
        "\n",
        "При этом в категориальных признаках наблюдается существенный дисбаланс, что может повлиять на возможность модели получить значимую связь между целевой переменной и данными признаками.\n",
        "\n",
        "Количество заказов имеет отрицательную корреляцию со следующими признаками:\n",
        "\n",
        "* итоговая цена и базовая цена (при этом между данными показателями также наблюдается высокая положительная корреляция)\n",
        "\n",
        "Количество заказов имеет положительную корреляцию со следующими признаками:\n",
        "\n",
        "* отправка промо по e-mail и показы продукции на главной странице (при этом между данными показателями также наблюдается высокая положительная корреляция)\n",
        "\n",
        " \n",
        "\n",
        "Объём выборки позволяет провести обучение (456548), что говорит о её достаточности.\n",
        "\n",
        "Непротиворечивость данных не наблюдается.\n",
        "\n",
        "Удовлетворяет ли ожиданиям? \n",
        "\n",
        "Необходимо провести предобработку датасета перед обучением. Также необходимо расширить датасет с положительными примерами по промоакциям и наличию товара на главной странице сайта, либо убрать эту информацию совсем.\n",
        "\n",
        "Возможно, стоит перейти от просто порядкового перечисления недели к неделе в месяце и конкретному месяцу, чтобы модель смогла найти новые закономерности"
      ]
    },
    {
      "cell_type": "markdown",
      "metadata": {
        "id": "Hf2sg146tU1C"
      },
      "source": [
        "# Part III: Prediction"
      ]
    },
    {
      "cell_type": "markdown",
      "metadata": {
        "id": "S-gcWDBEftU5"
      },
      "source": [
        "## 3.1 Прогнозирование среднего значения количества заказов для каждого склада"
      ]
    },
    {
      "cell_type": "code",
      "metadata": {
        "id": "pb-sPQ2ntxvc"
      },
      "source": [
        "class AveragePredictor():\n",
        "    def __init__(self):\n",
        "        self.predictions = pd.DataFrame()\n",
        "        \n",
        "    def fit(self, df):\n",
        "        self.predictions = df.groupby(['center_id', 'meal_id'], as_index=False).agg({'num_orders':'mean'})\n",
        "        self.predictions[\"num_orders\"] = self.predictions[\"num_orders\"].apply(lambda x: math.ceil(x))\n",
        "        \n",
        "    def predict(self, df):\n",
        "        df_for_pred = df.loc[:, ['center_id', 'meal_id']].drop_duplicates()\n",
        "        preds = df_for_pred.merge(self.predictions, on=['center_id', 'meal_id'], how='inner')\n",
        "        return preds"
      ],
      "execution_count": null,
      "outputs": []
    },
    {
      "cell_type": "code",
      "metadata": {
        "id": "h4a3o1S9gQFp",
        "colab": {
          "base_uri": "https://localhost:8080/"
        },
        "outputId": "e49c87d1-7f29-4132-f463-595779b17524"
      },
      "source": [
        "# подготовка данных для обучения и теста\n",
        "border = int(0.8 * len(train))\n",
        "train_shuffle = train.sample(frac=1)\n",
        "\n",
        "# обучение модели\n",
        "avg_pred = AveragePredictor()\n",
        "avg_pred.fit(train_shuffle[:border])\n",
        "\n",
        "# обучение модели\n",
        "avg_pred = AveragePredictor()\n",
        "avg_pred.fit(train_shuffle[:border])# предсказания\n",
        "y_pred = avg_pred.predict(train_shuffle[border:])\n",
        "\n",
        "# проверка качества\n",
        "for_test = train_shuffle[['center_id', 'meal_id', 'num_orders']]\n",
        "for_test = for_test.merge(y_pred, how='inner', on=['center_id', 'meal_id'], suffixes=['_true', '_pred'])\n",
        "mean_absolute_percentage_error(for_test.num_orders_true, for_test.num_orders_pred)"
      ],
      "execution_count": null,
      "outputs": [
        {
          "output_type": "execute_result",
          "data": {
            "text/plain": [
              "0.764439039227062"
            ]
          },
          "metadata": {
            "tags": []
          },
          "execution_count": 32
        }
      ]
    },
    {
      "cell_type": "markdown",
      "metadata": {
        "id": "4kDaLsJNg5Rn"
      },
      "source": [
        "## 3.2 Random forest"
      ]
    },
    {
      "cell_type": "code",
      "metadata": {
        "id": "zTFBQtHYi85g"
      },
      "source": [
        "x = train.iloc[:, :-1]\n",
        "y = train.iloc[:, -1]\n",
        "x_train, x_test, y_train, y_test = train_test_split(x, y, test_size=0.2, random_state=103)"
      ],
      "execution_count": null,
      "outputs": []
    },
    {
      "cell_type": "code",
      "metadata": {
        "id": "fFejQkJMhPm5"
      },
      "source": [
        "model = RandomForestRegressor(n_estimators=200)\n",
        "\n",
        "model.fit(x_train, y_train)\n",
        "y_pred = model.predict(x_test)"
      ],
      "execution_count": null,
      "outputs": []
    },
    {
      "cell_type": "code",
      "metadata": {
        "id": "GscIoe7Whbz_",
        "colab": {
          "base_uri": "https://localhost:8080/"
        },
        "outputId": "34b5e197-8684-4c31-d894-8b684eb11da5"
      },
      "source": [
        "mean_absolute_percentage_error(y_test, y_pred)"
      ],
      "execution_count": null,
      "outputs": [
        {
          "output_type": "execute_result",
          "data": {
            "text/plain": [
              "0.5562830497857568"
            ]
          },
          "metadata": {
            "tags": []
          },
          "execution_count": 35
        }
      ]
    },
    {
      "cell_type": "markdown",
      "metadata": {
        "id": "9XDq_JDLhwn2"
      },
      "source": [
        "## 3.3 CatBoost"
      ]
    },
    {
      "cell_type": "code",
      "metadata": {
        "id": "dMFS5wWuCtGE",
        "colab": {
          "base_uri": "https://localhost:8080/"
        },
        "outputId": "023c3870-d98c-4302-8747-68c816619ac8"
      },
      "source": [
        "catboost_params = {'depth': 4,\n",
        "                   'l2_leaf_reg': 1,\n",
        "                   'custom_metric': 'MAPE',\n",
        "                   'task_type': 'GPU',\n",
        "                   'iterations': 1100,\n",
        "                   'devices': '0',\n",
        "                   'verbose': 100,\n",
        "                   'random_seed': 2021}\n",
        "\n",
        "kf = KFold(n_splits=5)\n",
        "scores = []\n",
        "Y_predict = []\n",
        "MAPE_metrics = []\n",
        "\n",
        "for train_index, test_index in kf.split(X):\n",
        "    X_train, X_valid = X.iloc[train_index], X.iloc[test_index]\n",
        "    Y_train, Y_valid = Y.iloc[train_index], Y.iloc[test_index]\n",
        "\n",
        "    model = CatBoostRegressor(**catboost_params)\n",
        "    model = model.fit(X_train, Y_train,\n",
        "                      cat_features=cat_features,\n",
        "                      eval_set=(X_valid, Y_valid),\n",
        "                      use_best_model=True)\n",
        "    MAPE_metrics.append(model.best_score_[\"validation\"][\"MAPE\"])\n",
        "    \n",
        "    scores.append(model.score(X_valid, Y_valid))\n",
        "    Y_predict.append(model.predict(test))"
      ],
      "execution_count": null,
      "outputs": [
        {
          "output_type": "stream",
          "text": [
            "0:\tlearn: 1.2991352\ttest: 1.3073337\tbest: 1.3073337 (0)\ttotal: 40.8ms\tremaining: 44.8s\n",
            "100:\tlearn: 0.6699146\ttest: 0.6813299\tbest: 0.6813299 (100)\ttotal: 2.87s\tremaining: 28.4s\n",
            "200:\tlearn: 0.6304904\ttest: 0.6533469\tbest: 0.6533469 (200)\ttotal: 5.57s\tremaining: 24.9s\n",
            "300:\tlearn: 0.6154663\ttest: 0.6423760\tbest: 0.6423760 (300)\ttotal: 8.29s\tremaining: 22s\n",
            "400:\tlearn: 0.6053804\ttest: 0.6333911\tbest: 0.6333911 (400)\ttotal: 10.9s\tremaining: 19s\n",
            "500:\tlearn: 0.5972005\ttest: 0.6280313\tbest: 0.6280279 (498)\ttotal: 13.5s\tremaining: 16.2s\n",
            "600:\tlearn: 0.5905332\ttest: 0.6226667\tbest: 0.6226667 (600)\ttotal: 16.2s\tremaining: 13.4s\n",
            "700:\tlearn: 0.5857003\ttest: 0.6190484\tbest: 0.6190012 (697)\ttotal: 18.8s\tremaining: 10.7s\n",
            "800:\tlearn: 0.5815530\ttest: 0.6162725\tbest: 0.6162725 (800)\ttotal: 21.4s\tremaining: 7.99s\n",
            "900:\tlearn: 0.5783753\ttest: 0.6136663\tbest: 0.6136646 (899)\ttotal: 24s\tremaining: 5.3s\n",
            "1000:\tlearn: 0.5756182\ttest: 0.6116067\tbest: 0.6116067 (1000)\ttotal: 26.6s\tremaining: 2.63s\n",
            "1099:\tlearn: 0.5733455\ttest: 0.6099996\tbest: 0.6099996 (1099)\ttotal: 29.3s\tremaining: 0us\n",
            "bestTest = 0.6099995632\n",
            "bestIteration = 1099\n",
            "0:\tlearn: 1.2964352\ttest: 1.3188396\tbest: 1.3188396 (0)\ttotal: 39.9ms\tremaining: 43.8s\n",
            "100:\tlearn: 0.6757109\ttest: 0.6704726\tbest: 0.6704726 (100)\ttotal: 2.83s\tremaining: 28s\n",
            "200:\tlearn: 0.6386652\ttest: 0.6350924\tbest: 0.6350924 (200)\ttotal: 5.5s\tremaining: 24.6s\n",
            "300:\tlearn: 0.6206782\ttest: 0.6217219\tbest: 0.6217219 (300)\ttotal: 8.16s\tremaining: 21.7s\n",
            "400:\tlearn: 0.6096694\ttest: 0.6136902\tbest: 0.6136902 (400)\ttotal: 10.8s\tremaining: 18.9s\n",
            "500:\tlearn: 0.6017233\ttest: 0.6077706\tbest: 0.6077706 (500)\ttotal: 13.5s\tremaining: 16.1s\n",
            "600:\tlearn: 0.5956180\ttest: 0.6030968\tbest: 0.6030968 (600)\ttotal: 16.2s\tremaining: 13.5s\n",
            "700:\tlearn: 0.5904599\ttest: 0.5989346\tbest: 0.5989346 (700)\ttotal: 18.9s\tremaining: 10.7s\n",
            "800:\tlearn: 0.5859666\ttest: 0.5954882\tbest: 0.5954882 (800)\ttotal: 21.5s\tremaining: 8.03s\n",
            "900:\tlearn: 0.5822502\ttest: 0.5937175\tbest: 0.5936978 (899)\ttotal: 24.2s\tremaining: 5.34s\n",
            "1000:\tlearn: 0.5793679\ttest: 0.5920811\tbest: 0.5920670 (998)\ttotal: 26.8s\tremaining: 2.65s\n",
            "1099:\tlearn: 0.5770278\ttest: 0.5907540\tbest: 0.5907540 (1099)\ttotal: 29.5s\tremaining: 0us\n",
            "bestTest = 0.5907539772\n",
            "bestIteration = 1099\n",
            "0:\tlearn: 1.2988344\ttest: 1.3093874\tbest: 1.3093874 (0)\ttotal: 40.9ms\tremaining: 45s\n",
            "100:\tlearn: 0.6762628\ttest: 0.6681932\tbest: 0.6681932 (100)\ttotal: 2.9s\tremaining: 28.7s\n",
            "200:\tlearn: 0.6380723\ttest: 0.6307104\tbest: 0.6307104 (200)\ttotal: 5.64s\tremaining: 25.2s\n",
            "300:\tlearn: 0.6204387\ttest: 0.6161681\tbest: 0.6161681 (300)\ttotal: 8.3s\tremaining: 22s\n",
            "400:\tlearn: 0.6105984\ttest: 0.6070425\tbest: 0.6070425 (400)\ttotal: 11s\tremaining: 19.1s\n",
            "500:\tlearn: 0.6036534\ttest: 0.6015774\tbest: 0.6015528 (498)\ttotal: 13.6s\tremaining: 16.3s\n",
            "600:\tlearn: 0.5980323\ttest: 0.5972419\tbest: 0.5972419 (600)\ttotal: 16.3s\tremaining: 13.5s\n",
            "700:\tlearn: 0.5936356\ttest: 0.5942935\tbest: 0.5942924 (696)\ttotal: 19s\tremaining: 10.8s\n",
            "800:\tlearn: 0.5893807\ttest: 0.5920322\tbest: 0.5920322 (800)\ttotal: 21.6s\tremaining: 8.06s\n",
            "900:\tlearn: 0.5858731\ttest: 0.5893403\tbest: 0.5893403 (900)\ttotal: 24.2s\tremaining: 5.35s\n",
            "1000:\tlearn: 0.5829410\ttest: 0.5872043\tbest: 0.5872043 (1000)\ttotal: 26.9s\tremaining: 2.66s\n",
            "1099:\tlearn: 0.5804050\ttest: 0.5857471\tbest: 0.5857471 (1099)\ttotal: 29.5s\tremaining: 0us\n",
            "bestTest = 0.5857471114\n",
            "bestIteration = 1099\n",
            "0:\tlearn: 1.3023099\ttest: 1.2949406\tbest: 1.2949406 (0)\ttotal: 40.1ms\tremaining: 44.1s\n",
            "100:\tlearn: 0.6742226\ttest: 0.6730647\tbest: 0.6730647 (100)\ttotal: 2.85s\tremaining: 28.2s\n",
            "200:\tlearn: 0.6367624\ttest: 0.6402502\tbest: 0.6402502 (200)\ttotal: 5.57s\tremaining: 24.9s\n",
            "300:\tlearn: 0.6193934\ttest: 0.6263848\tbest: 0.6263848 (300)\ttotal: 8.22s\tremaining: 21.8s\n",
            "400:\tlearn: 0.6095327\ttest: 0.6185729\tbest: 0.6185729 (400)\ttotal: 10.9s\tremaining: 19s\n",
            "500:\tlearn: 0.6018960\ttest: 0.6132392\tbest: 0.6132392 (500)\ttotal: 13.6s\tremaining: 16.3s\n",
            "600:\tlearn: 0.5959335\ttest: 0.6093140\tbest: 0.6093140 (600)\ttotal: 16.3s\tremaining: 13.5s\n",
            "700:\tlearn: 0.5908187\ttest: 0.6053266\tbest: 0.6053266 (700)\ttotal: 19s\tremaining: 10.8s\n",
            "800:\tlearn: 0.5860148\ttest: 0.6017732\tbest: 0.6017732 (800)\ttotal: 21.6s\tremaining: 8.07s\n",
            "900:\tlearn: 0.5823756\ttest: 0.5990204\tbest: 0.5990204 (900)\ttotal: 24.3s\tremaining: 5.37s\n",
            "1000:\tlearn: 0.5794271\ttest: 0.5963319\tbest: 0.5963286 (999)\ttotal: 27s\tremaining: 2.67s\n",
            "1099:\tlearn: 0.5771363\ttest: 0.5947680\tbest: 0.5947680 (1099)\ttotal: 29.7s\tremaining: 0us\n",
            "bestTest = 0.5947680341\n",
            "bestIteration = 1099\n",
            "0:\tlearn: 1.3071258\ttest: 1.2742556\tbest: 1.2742556 (0)\ttotal: 39.8ms\tremaining: 43.7s\n",
            "100:\tlearn: 0.6749018\ttest: 0.6854848\tbest: 0.6854848 (100)\ttotal: 2.82s\tremaining: 27.9s\n",
            "200:\tlearn: 0.6370755\ttest: 0.6510127\tbest: 0.6510127 (200)\ttotal: 5.49s\tremaining: 24.6s\n",
            "300:\tlearn: 0.6207696\ttest: 0.6321708\tbest: 0.6321708 (300)\ttotal: 8.17s\tremaining: 21.7s\n",
            "400:\tlearn: 0.6117123\ttest: 0.6215808\tbest: 0.6215808 (400)\ttotal: 10.8s\tremaining: 18.8s\n",
            "500:\tlearn: 0.6038053\ttest: 0.6134250\tbest: 0.6134250 (500)\ttotal: 13.5s\tremaining: 16.1s\n",
            "600:\tlearn: 0.5970126\ttest: 0.6079684\tbest: 0.6079684 (600)\ttotal: 16.1s\tremaining: 13.4s\n",
            "700:\tlearn: 0.5915614\ttest: 0.6032015\tbest: 0.6032015 (700)\ttotal: 18.7s\tremaining: 10.7s\n",
            "800:\tlearn: 0.5873383\ttest: 0.5998482\tbest: 0.5998482 (800)\ttotal: 21.4s\tremaining: 7.99s\n",
            "900:\tlearn: 0.5836366\ttest: 0.5970517\tbest: 0.5970517 (900)\ttotal: 24.1s\tremaining: 5.31s\n",
            "1000:\tlearn: 0.5809387\ttest: 0.5951047\tbest: 0.5951047 (1000)\ttotal: 26.7s\tremaining: 2.64s\n",
            "1099:\tlearn: 0.5784372\ttest: 0.5934638\tbest: 0.5934638 (1099)\ttotal: 29.4s\tremaining: 0us\n",
            "bestTest = 0.5934638237\n",
            "bestIteration = 1099\n"
          ],
          "name": "stdout"
        }
      ]
    },
    {
      "cell_type": "code",
      "metadata": {
        "id": "D_JtHkAItnU0",
        "colab": {
          "base_uri": "https://localhost:8080/"
        },
        "outputId": "7e632955-fa90-4a46-a951-4ae9b64e2a2f"
      },
      "source": [
        "mean_score = np.mean(scores)\n",
        "Y_predict = np.mean(Y_predict, axis=0)\n",
        "print(mean_score) # R^2 (R square) score"
      ],
      "execution_count": null,
      "outputs": [
        {
          "output_type": "stream",
          "text": [
            "0.798376627720365\n"
          ],
          "name": "stdout"
        }
      ]
    },
    {
      "cell_type": "code",
      "metadata": {
        "id": "hdD6xqws-s7L",
        "colab": {
          "base_uri": "https://localhost:8080/"
        },
        "outputId": "f6ae83ec-9a62-4c9f-eeae-abe824def04f"
      },
      "source": [
        "np.mean(MAPE_metrics)"
      ],
      "execution_count": null,
      "outputs": [
        {
          "output_type": "execute_result",
          "data": {
            "text/plain": [
              "0.10448736657633484"
            ]
          },
          "metadata": {
            "tags": []
          },
          "execution_count": 38
        }
      ]
    },
    {
      "cell_type": "markdown",
      "metadata": {
        "id": "blio3P2gjZ4j"
      },
      "source": [
        " Метрика MAPE говорит нам о том, что в среднем прогноз модели ошибается на 10%. \n",
        "\n",
        " Данная модель оптимальна как по результату метрики качества, так и по времени обучения"
      ]
    },
    {
      "cell_type": "markdown",
      "metadata": {
        "id": "zXJiY60BSw8D"
      },
      "source": [
        "# Экономический эффект"
      ]
    },
    {
      "cell_type": "markdown",
      "metadata": {
        "id": "48dbb2bd"
      },
      "source": [
        "В случае успешной реализации проекта ожидается получить следующий экономический эффект:\n",
        "\n",
        "$$E = \\sum(C - RM)*p, C >= RM$$\n",
        "\n",
        "где E - экономический эффект, в ден.ед.,\n",
        "\n",
        "C - рассчитанная потребность, в ед.\n",
        "\n",
        "RM - реализованная продукция, в ед.\n",
        "\n",
        "p - стоимость продукции, в ден.ед.\n",
        "\n",
        "E - это невостребованный остаток, может добавить дополнительные затраты. Стремимся получить Е = 0. \n",
        "\n",
        "В зависимости от качества модели остаток может быть рассчитан либо более приближенным к реальным результатам, либо сильно отличающимся от него.\n",
        "\n",
        "Если взять CatBoost модель, то модель ошибается в среднем на 10% как в сторону недостачи, так и в сторону переизбытка продукции на складе.\n",
        "\n",
        "Как измениться эффект от роста качества на 1% / 10%\n",
        "\n",
        "Рост качества модели на 1% позволит сократить ошибку модели на 1%, т.е. разброс сократиться на 1%. Соотвественно, аналогичная ситуация будет и с 10%. \n"
      ]
    },
    {
      "cell_type": "code",
      "metadata": {
        "id": "EJOfEX-FSxlm"
      },
      "source": [
        ""
      ],
      "execution_count": null,
      "outputs": []
    }
  ]
}